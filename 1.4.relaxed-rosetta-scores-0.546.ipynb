{
 "cells": [
  {
   "cell_type": "markdown",
   "id": "601b4da6",
   "metadata": {
    "papermill": {
     "duration": 0.006003,
     "end_time": "2022-10-31T16:51:29.615451",
     "exception": false,
     "start_time": "2022-10-31T16:51:29.609448",
     "status": "completed"
    },
    "tags": []
   },
   "source": [
    "#  Summary"
   ]
  },
  {
   "cell_type": "markdown",
   "id": "f0ce8fef",
   "metadata": {
    "papermill": {
     "duration": 0.004379,
     "end_time": "2022-10-31T16:51:29.624990",
     "exception": false,
     "start_time": "2022-10-31T16:51:29.620611",
     "status": "completed"
    },
    "tags": []
   },
   "source": [
    "This notebook utilizes the relaxed structures of NOVO wildtype, provided by Vladimir Slaykovskiy ([here](https://www.kaggle.com/code/vslaykovsky/nesp-thermonet)), by using their calculated energy scores (calculated with the default energy score, i.e., ref15, since this is also the energy score used to relax the structures). The energy scores (with delete mutation scores = quantile score) score 0.471, and after an equal-weight ensemble with the best notebook to date (518, [here](https://www.kaggle.com/code/vslaykovsky/nesp-thermonet-v2)), achieve 0.579.\n",
    "\n",
    "### New version update: now the notebook runs PyRosetta on Kaggle, both in interactive and commit mode!"
   ]
  },
  {
   "cell_type": "markdown",
   "id": "5eb26f22",
   "metadata": {
    "papermill": {
     "duration": 0.00447,
     "end_time": "2022-10-31T16:51:29.634133",
     "exception": false,
     "start_time": "2022-10-31T16:51:29.629663",
     "status": "completed"
    },
    "tags": []
   },
   "source": [
    "# A short guide to rosetta"
   ]
  },
  {
   "cell_type": "markdown",
   "id": "57ef7e8c",
   "metadata": {
    "papermill": {
     "duration": 0.004355,
     "end_time": "2022-10-31T16:51:29.643193",
     "exception": false,
     "start_time": "2022-10-31T16:51:29.638838",
     "status": "completed"
    },
    "tags": []
   },
   "source": [
    "Rosetta is a 'software suite includes algorithms for computational modeling and analysis of protein structures' ([see here](https://www.rosettacomm)). It can be freely downloaded [here](https://www.rosettacommons.org/software/license-and-download) after a short registration. Moreover, it has an excellent python interface, pyrosetta, and is downloadable at the same link. There are excellent colab-based tutorials for pyrosetta. See [here](https://rosettacommons.github.io/PyRosetta.notebooks/). I recommend going through chapters 1-3 to understand essential utilization and energy scores and then through chapters 4-6 if you want to design/relax structures yourselves. The tutorials are short, easy to understand, and very clear."
   ]
  },
  {
   "cell_type": "markdown",
   "id": "cd91125c",
   "metadata": {
    "papermill": {
     "duration": 0.004348,
     "end_time": "2022-10-31T16:51:29.652275",
     "exception": false,
     "start_time": "2022-10-31T16:51:29.647927",
     "status": "completed"
    },
    "tags": []
   },
   "source": [
    "# My rosetta code\n",
    "Robert Hatch discovered that we could run PyRosetta in Kaggle in interactive mode by passing cache_wheel_on_google_drive=False to pyrosettacolabsetup.install_pyrosetta. Installing PyRosetta requires entering a username and password during the installation, so getting it to work also in commit mode took (quite) a bit of tinkering."
   ]
  },
  {
   "cell_type": "markdown",
   "id": "f781eaf5",
   "metadata": {
    "papermill": {
     "duration": 0.004753,
     "end_time": "2022-10-31T16:51:29.661865",
     "exception": false,
     "start_time": "2022-10-31T16:51:29.657112",
     "status": "completed"
    },
    "tags": []
   },
   "source": [
    "## Preparations\n",
    "Getting the relaxed structures file names and the corresponding mutations from [here](https://www.kaggle.com/datasets/vslaykovsky/thermonet-wildtype-relaxed)"
   ]
  },
  {
   "cell_type": "code",
   "execution_count": 1,
   "id": "3efc37f0",
   "metadata": {
    "papermill": {
     "duration": 0.431473,
     "end_time": "2022-10-31T16:51:30.098124",
     "exception": false,
     "start_time": "2022-10-31T16:51:29.666651",
     "status": "completed"
    },
    "tags": []
   },
   "outputs": [
    {
     "data": {
      "text/html": [
       "<div>\n",
       "<style scoped>\n",
       "    .dataframe tbody tr th:only-of-type {\n",
       "        vertical-align: middle;\n",
       "    }\n",
       "\n",
       "    .dataframe tbody tr th {\n",
       "        vertical-align: top;\n",
       "    }\n",
       "\n",
       "    .dataframe thead th {\n",
       "        text-align: right;\n",
       "    }\n",
       "</style>\n",
       "<table border=\"1\" class=\"dataframe\">\n",
       "  <thead>\n",
       "    <tr style=\"text-align: right;\">\n",
       "      <th></th>\n",
       "      <th>mutation</th>\n",
       "      <th>path</th>\n",
       "    </tr>\n",
       "  </thead>\n",
       "  <tbody>\n",
       "    <tr>\n",
       "      <th>0</th>\n",
       "      <td>Q60D</td>\n",
       "      <td>wildtypeA_Q60D_relaxed.pdb</td>\n",
       "    </tr>\n",
       "    <tr>\n",
       "      <th>1</th>\n",
       "      <td>T167E</td>\n",
       "      <td>wildtypeA_T167E_relaxed.pdb</td>\n",
       "    </tr>\n",
       "    <tr>\n",
       "      <th>2</th>\n",
       "      <td>K18F</td>\n",
       "      <td>wildtypeA_K18F_relaxed.pdb</td>\n",
       "    </tr>\n",
       "    <tr>\n",
       "      <th>3</th>\n",
       "      <td>S154H</td>\n",
       "      <td>wildtypeA_S154H_relaxed.pdb</td>\n",
       "    </tr>\n",
       "    <tr>\n",
       "      <th>4</th>\n",
       "      <td>E109Y</td>\n",
       "      <td>wildtypeA_E109Y_relaxed.pdb</td>\n",
       "    </tr>\n",
       "  </tbody>\n",
       "</table>\n",
       "</div>"
      ],
      "text/plain": [
       "  mutation                         path\n",
       "0     Q60D   wildtypeA_Q60D_relaxed.pdb\n",
       "1    T167E  wildtypeA_T167E_relaxed.pdb\n",
       "2     K18F   wildtypeA_K18F_relaxed.pdb\n",
       "3    S154H  wildtypeA_S154H_relaxed.pdb\n",
       "4    E109Y  wildtypeA_E109Y_relaxed.pdb"
      ]
     },
     "execution_count": 1,
     "metadata": {},
     "output_type": "execute_result"
    }
   ],
   "source": [
    "import os\n",
    "import pandas as pd\n",
    "\n",
    "\n",
    "relaxed_path = 'data/thermonet_wildtype_relaxed/wildtypeA'\n",
    "files = os.listdir(relaxed_path)\n",
    "relaxed_pdbs = [file for file in files if file.endswith(\".pdb\")]\n",
    "mutation_to_pdb = {}\n",
    "mutation_to_pdb['mutation'] = [file.split('_')[1] for file in relaxed_pdbs]\n",
    "mutation_to_pdb['path'] = [file for file in relaxed_pdbs]\n",
    "mutation_to_pdb_df = pd.DataFrame(mutation_to_pdb)\n",
    "mutation_to_pdb_df.head()"
   ]
  },
  {
   "cell_type": "markdown",
   "id": "31b92ef7",
   "metadata": {
    "papermill": {
     "duration": 0.005553,
     "end_time": "2022-10-31T16:51:30.109649",
     "exception": false,
     "start_time": "2022-10-31T16:51:30.104096",
     "status": "completed"
    },
    "tags": []
   },
   "source": [
    "## Importing and installing pyrosetta\n",
    "### Basic imports"
   ]
  },
  {
   "cell_type": "code",
   "execution_count": 2,
   "id": "e449c978",
   "metadata": {
    "papermill": {
     "duration": 13.462613,
     "end_time": "2022-10-31T16:51:43.577215",
     "exception": false,
     "start_time": "2022-10-31T16:51:30.114602",
     "status": "completed"
    },
    "tags": []
   },
   "outputs": [],
   "source": [
    "import numpy as np # linear algebra\n",
    "import pandas as pd # data processing, CSV file I/O (e.g. pd.read_csv)\n",
    "# !pip install pyrosettacolabsetup\n",
    "import pyrosettacolabsetup;\n",
    "import builtins"
   ]
  },
  {
   "cell_type": "markdown",
   "id": "35f68e97",
   "metadata": {
    "papermill": {
     "duration": 0.004994,
     "end_time": "2022-10-31T16:51:43.587723",
     "exception": false,
     "start_time": "2022-10-31T16:51:43.582729",
     "status": "completed"
    },
    "tags": []
   },
   "source": [
    "### Installing PyRosetta\n",
    "This step requires a username and password; you can get them free [here](https://els2.comotion.uw.edu/product/pyrosetta). Enter yours in username/password instead of my secrets, or create your secrets."
   ]
  },
  {
   "cell_type": "code",
   "execution_count": 3,
   "id": "a957cf75-69d8-4f5e-aaaa-c5fe9b02ccd3",
   "metadata": {},
   "outputs": [],
   "source": [
    "# !pip install --quiet kaggle"
   ]
  },
  {
   "cell_type": "code",
   "execution_count": 4,
   "id": "4898c23f",
   "metadata": {
    "papermill": {
     "duration": 46.267739,
     "end_time": "2022-10-31T16:52:29.863357",
     "exception": false,
     "start_time": "2022-10-31T16:51:43.595618",
     "status": "completed"
    },
    "tags": []
   },
   "outputs": [],
   "source": [
    "# from kaggle_secrets import UserSecretsClient\n",
    "\n",
    "# global username\n",
    "# username = \"levinthal\" #UserSecretsClient().get_secret(\"levinthal\")\n",
    "# global password\n",
    "# password = \"paradox\"# UserSecretsClient().get_secret(\"paradox\")\n",
    "\n",
    "# '''\n",
    "# Here I do some tinkering with builtins.input, so that input(), which usually wait\n",
    "# for user input, would automatically return username and password.\n",
    "# '''\n",
    "# global flag\n",
    "# flag = 0\n",
    "# def mock_input1(*args, **kwargs):\n",
    "#     global flag\n",
    "#     global username\n",
    "#     global password\n",
    "#     if flag == 0:\n",
    "#         flag = 1\n",
    "#         return username\n",
    "#     return password\n",
    "# builtins.input = mock_input1\n",
    "\n",
    "# pyrosettacolabsetup.install_pyrosetta(prefix='/home/xux/Desktop/Enzyme_stab/Enzyme_pred/pyrosetta', cache_wheel_on_google_drive=False)"
   ]
  },
  {
   "cell_type": "code",
   "execution_count": 5,
   "id": "cbc2e4dc-3ce0-43f1-adeb-b647b3ba9731",
   "metadata": {},
   "outputs": [],
   "source": [
    "# ! pip install './pyrosetta/wheels/pyrosetta-2022.49+release.201d7639f91-cp37-cp37m-linux_x86_64.whl'"
   ]
  },
  {
   "cell_type": "markdown",
   "id": "72e2aabe",
   "metadata": {
    "papermill": {
     "duration": 0.007352,
     "end_time": "2022-10-31T16:52:29.879144",
     "exception": false,
     "start_time": "2022-10-31T16:52:29.871792",
     "status": "completed"
    },
    "tags": []
   },
   "source": [
    "## Calculating rosetta scores\n",
    "This cell would take some time. You can skip it by commenting out this cell and uncommenting the next one, which loads the already calculated scores."
   ]
  },
  {
   "cell_type": "code",
   "execution_count": null,
   "id": "13fe339d",
   "metadata": {
    "papermill": {
     "duration": 2044.3421,
     "end_time": "2022-10-31T17:26:34.237392",
     "exception": false,
     "start_time": "2022-10-31T16:52:29.895292",
     "status": "completed"
    },
    "tags": []
   },
   "outputs": [],
   "source": [
    "# %%time\n",
    "# '''\n",
    "import pyrosetta\n",
    "pyrosetta.init()\n",
    "from pyrosetta.teaching import *\n",
    "\n",
    "scores = []\n",
    "sfxn = get_score_function(True)\n",
    "for i in range(len(mutation_to_pdb_df)):\n",
    "    if not i%100: print(i)\n",
    "    pose = pyrosetta.pose_from_pdb(os.path.join(relaxed_path, mutation_to_pdb_df.iloc[i]['path']))\n",
    "    scores.append(sfxn(pose))\n",
    "\n",
    "mutation_to_pdb_df['scores'] = scores\n",
    "scores = mutation_to_pdb_df\n",
    "scores.head()\n",
    "# '''"
   ]
  },
  {
   "cell_type": "markdown",
   "id": "cfeeebae",
   "metadata": {
    "papermill": {
     "duration": 0.008456,
     "end_time": "2022-10-31T17:26:34.254483",
     "exception": false,
     "start_time": "2022-10-31T17:26:34.246027",
     "status": "completed"
    },
    "tags": []
   },
   "source": [
    "Uncomment this cell if you commented out the previous cell to save time."
   ]
  },
  {
   "cell_type": "code",
   "execution_count": null,
   "id": "a7869c52",
   "metadata": {
    "papermill": {
     "duration": 0.021155,
     "end_time": "2022-10-31T17:26:34.284202",
     "exception": false,
     "start_time": "2022-10-31T17:26:34.263047",
     "status": "completed"
    },
    "tags": []
   },
   "outputs": [],
   "source": [
    "scores = pd.read_csv('data/rosetta/NOVO_wt_relaxed_scores.csv')\n",
    "scores.head()\n"
   ]
  },
  {
   "cell_type": "markdown",
   "id": "bad9ca50",
   "metadata": {
    "papermill": {
     "duration": 0.008363,
     "end_time": "2022-10-31T17:26:34.301439",
     "exception": false,
     "start_time": "2022-10-31T17:26:34.293076",
     "status": "completed"
    },
    "tags": []
   },
   "source": [
    "# The rest\n",
    "From here, it's just regular ranking and submission."
   ]
  },
  {
   "cell_type": "code",
   "execution_count": null,
   "id": "fc7755e5",
   "metadata": {
    "papermill": {
     "duration": 1.055745,
     "end_time": "2022-10-31T17:26:35.365899",
     "exception": false,
     "start_time": "2022-10-31T17:26:34.310154",
     "status": "completed"
    },
    "tags": []
   },
   "outputs": [],
   "source": [
    "import numpy as np\n",
    "import pandas as pd\n",
    "from scipy.stats import rankdata"
   ]
  },
  {
   "cell_type": "code",
   "execution_count": null,
   "id": "2f923446",
   "metadata": {
    "papermill": {
     "duration": 0.021696,
     "end_time": "2022-10-31T17:26:35.396569",
     "exception": false,
     "start_time": "2022-10-31T17:26:35.374873",
     "status": "completed"
    },
    "tags": []
   },
   "outputs": [],
   "source": [
    "def find_mut(row):\n",
    "    mut = row.mutant_seq\n",
    "    seq = row.sequence\n",
    "    same = True\n",
    "    for i,(x,y) in enumerate(zip(seq,mut)):\n",
    "        if x!=y: \n",
    "            same = False\n",
    "            break\n",
    "    row['WT'] = seq[i]\n",
    "    row['position'] = i+1\n",
    "    if not same:\n",
    "        if len(mut) < len(seq):\n",
    "            row['MUT'] = 'X'\n",
    "        else:\n",
    "            row['MUT'] = mut[i]\n",
    "    else: \n",
    "        row['position'] = -1\n",
    "        row['MUT'] = 'X'\n",
    "    row['mutation_key'] = row['WT']+str(row['position']) + row['MUT']\n",
    "    return row"
   ]
  },
  {
   "cell_type": "code",
   "execution_count": null,
   "id": "37eae8f7",
   "metadata": {
    "papermill": {
     "duration": 5.573746,
     "end_time": "2022-10-31T17:26:40.979215",
     "exception": false,
     "start_time": "2022-10-31T17:26:35.405469",
     "status": "completed"
    },
    "tags": []
   },
   "outputs": [],
   "source": [
    "novo_test = pd.read_csv(\"data/test.csv\")\n",
    "novo_test = novo_test.rename({'protein_sequence': 'mutant_seq', 'seq_id': 'source_df_id'}, axis = 1)\n",
    "novo_test['sequence'] = 'VPVNPEPDATSVENVALKTGSGDSQSDPIKADLEVKGQSALPFDVDCWAILCKGAPNVLQRVNEKTKNSNRDRSGANKGPFKDPQKWGIKALPPKNPSWSAQDFKSPEEYAFASSLQGGTNAILAPVNLASQNSQGGVLNGFYSANKVAQFDPSKPQQTKGTWFQITKFTGAAGPYCKALGSNDKSVCDKNKNIAGDWGFDPAKWAYQYDEKNNKFNYVGK'\n",
    "novo_test = novo_test.apply(find_mut,axis=1)\n",
    "novo_test = novo_test.join(scores.set_index('mutation'), on='mutation_key')\n",
    "novo_test['scores'] = -novo_test['scores']\n",
    "novo_test.loc[novo_test['scores'].isna(), 'scores'] = novo_test.loc[~novo_test['scores'].isna()].quantile(q=0.25)['scores']\n",
    "novo_test['scores_rank'] = rankdata(novo_test['scores'])\n",
    "novo_test.head()"
   ]
  },
  {
   "cell_type": "code",
   "execution_count": null,
   "id": "015cb72a",
   "metadata": {
    "papermill": {
     "duration": 0.034642,
     "end_time": "2022-10-31T17:26:41.022914",
     "exception": false,
     "start_time": "2022-10-31T17:26:40.988272",
     "status": "completed"
    },
    "tags": []
   },
   "outputs": [],
   "source": [
    "submission_rosetta_scores = novo_test[['source_df_id','scores_rank']]\n",
    "submission_rosetta_scores = submission_rosetta_scores.rename({'source_df_id': 'seq_id', 'scores_rank': 'tm'}, axis = 1)\n",
    "submission_rosetta_scores.to_csv('submission_rosetta_scores', index=False)\n",
    "submission_rosetta_scores.head()"
   ]
  },
  {
   "cell_type": "code",
   "execution_count": null,
   "id": "b0e4fba9",
   "metadata": {
    "papermill": {
     "duration": 0.043675,
     "end_time": "2022-10-31T17:26:41.075811",
     "exception": false,
     "start_time": "2022-10-31T17:26:41.032136",
     "status": "completed"
    },
    "tags": []
   },
   "outputs": [],
   "source": [
    "thermonet2_ensemble_same_weight = pd.read_csv('data/thermonet/ensemble_submission.csv')\n",
    "thermonet2_ensemble_same_weight['tm'] = rankdata(thermonet2_ensemble_same_weight['tm'])\n",
    "thermonet2_ensemble_same_weight['tm'] = thermonet2_ensemble_same_weight['tm'] + submission_rosetta_scores['tm']\n",
    "thermonet2_ensemble_same_weight.to_csv('submissions/pyrosetta_thermonet_ensemble', index=False)\n",
    "thermonet2_ensemble_same_weight.head()"
   ]
  },
  {
   "cell_type": "code",
   "execution_count": null,
   "id": "6e404a91-2e88-4acb-9964-4e4a573ea0d6",
   "metadata": {},
   "outputs": [],
   "source": []
  }
 ],
 "metadata": {
  "kernelspec": {
   "display_name": "Python 3 (ipykernel)",
   "language": "python",
   "name": "python3"
  },
  "language_info": {
   "codemirror_mode": {
    "name": "ipython",
    "version": 3
   },
   "file_extension": ".py",
   "mimetype": "text/x-python",
   "name": "python",
   "nbconvert_exporter": "python",
   "pygments_lexer": "ipython3",
   "version": "3.7.12"
  },
  "papermill": {
   "default_parameters": {},
   "duration": 2121.635892,
   "end_time": "2022-10-31T17:26:42.415516",
   "environment_variables": {},
   "exception": null,
   "input_path": "__notebook__.ipynb",
   "output_path": "__notebook__.ipynb",
   "parameters": {},
   "start_time": "2022-10-31T16:51:20.779624",
   "version": "2.3.4"
  }
 },
 "nbformat": 4,
 "nbformat_minor": 5
}
