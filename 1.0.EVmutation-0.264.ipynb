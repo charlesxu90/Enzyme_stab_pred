{
 "cells": [
  {
   "cell_type": "code",
   "execution_count": 1,
   "id": "1cd0bcb7-3307-4d64-b98e-61d120151988",
   "metadata": {},
   "outputs": [],
   "source": [
    "import pandas as pd\n",
    "import matplotlib.pyplot as plt"
   ]
  },
  {
   "cell_type": "code",
   "execution_count": 2,
   "id": "ac8107da-fff0-42df-96b3-aa45ef94e95e",
   "metadata": {},
   "outputs": [
    {
     "data": {
      "text/html": [
       "<div>\n",
       "<style scoped>\n",
       "    .dataframe tbody tr th:only-of-type {\n",
       "        vertical-align: middle;\n",
       "    }\n",
       "\n",
       "    .dataframe tbody tr th {\n",
       "        vertical-align: top;\n",
       "    }\n",
       "\n",
       "    .dataframe thead th {\n",
       "        text-align: right;\n",
       "    }\n",
       "</style>\n",
       "<table border=\"1\" class=\"dataframe\">\n",
       "  <thead>\n",
       "    <tr style=\"text-align: right;\">\n",
       "      <th></th>\n",
       "      <th>seq_id</th>\n",
       "      <th>protein_sequence</th>\n",
       "      <th>pH</th>\n",
       "      <th>data_source</th>\n",
       "      <th>seq_len</th>\n",
       "    </tr>\n",
       "  </thead>\n",
       "  <tbody>\n",
       "    <tr>\n",
       "      <th>0</th>\n",
       "      <td>31390</td>\n",
       "      <td>VPVNPEPDATSVENVAEKTGSGDSQSDPIKADLEVKGQSALPFDVD...</td>\n",
       "      <td>8</td>\n",
       "      <td>Novozymes</td>\n",
       "      <td>221</td>\n",
       "    </tr>\n",
       "    <tr>\n",
       "      <th>1</th>\n",
       "      <td>31391</td>\n",
       "      <td>VPVNPEPDATSVENVAKKTGSGDSQSDPIKADLEVKGQSALPFDVD...</td>\n",
       "      <td>8</td>\n",
       "      <td>Novozymes</td>\n",
       "      <td>221</td>\n",
       "    </tr>\n",
       "    <tr>\n",
       "      <th>2</th>\n",
       "      <td>31392</td>\n",
       "      <td>VPVNPEPDATSVENVAKTGSGDSQSDPIKADLEVKGQSALPFDVDC...</td>\n",
       "      <td>8</td>\n",
       "      <td>Novozymes</td>\n",
       "      <td>220</td>\n",
       "    </tr>\n",
       "    <tr>\n",
       "      <th>3</th>\n",
       "      <td>31393</td>\n",
       "      <td>VPVNPEPDATSVENVALCTGSGDSQSDPIKADLEVKGQSALPFDVD...</td>\n",
       "      <td>8</td>\n",
       "      <td>Novozymes</td>\n",
       "      <td>221</td>\n",
       "    </tr>\n",
       "    <tr>\n",
       "      <th>4</th>\n",
       "      <td>31394</td>\n",
       "      <td>VPVNPEPDATSVENVALFTGSGDSQSDPIKADLEVKGQSALPFDVD...</td>\n",
       "      <td>8</td>\n",
       "      <td>Novozymes</td>\n",
       "      <td>221</td>\n",
       "    </tr>\n",
       "  </tbody>\n",
       "</table>\n",
       "</div>"
      ],
      "text/plain": [
       "   seq_id                                   protein_sequence  pH data_source  \\\n",
       "0   31390  VPVNPEPDATSVENVAEKTGSGDSQSDPIKADLEVKGQSALPFDVD...   8   Novozymes   \n",
       "1   31391  VPVNPEPDATSVENVAKKTGSGDSQSDPIKADLEVKGQSALPFDVD...   8   Novozymes   \n",
       "2   31392  VPVNPEPDATSVENVAKTGSGDSQSDPIKADLEVKGQSALPFDVDC...   8   Novozymes   \n",
       "3   31393  VPVNPEPDATSVENVALCTGSGDSQSDPIKADLEVKGQSALPFDVD...   8   Novozymes   \n",
       "4   31394  VPVNPEPDATSVENVALFTGSGDSQSDPIKADLEVKGQSALPFDVD...   8   Novozymes   \n",
       "\n",
       "   seq_len  \n",
       "0      221  \n",
       "1      221  \n",
       "2      220  \n",
       "3      221  \n",
       "4      221  "
      ]
     },
     "execution_count": 2,
     "metadata": {},
     "output_type": "execute_result"
    }
   ],
   "source": [
    "data_folder = './data'\n",
    "\n",
    "test = pd.read_csv(f'{data_folder}/test.csv')\n",
    "test['seq_len'] = test.protein_sequence.str.len()\n",
    "test.head()"
   ]
  },
  {
   "cell_type": "code",
   "execution_count": 3,
   "id": "909014f5-2783-487e-8960-920f829205d2",
   "metadata": {},
   "outputs": [],
   "source": [
    "test_wt = 'VPVNPEPDATSVENVALKTGSGDSQSDPIKADLEVKGQSALPFDVDCWAILCKGAPNVLQRVNEKTKNSNRDRSGANKGPFKDPQKWGIKALPPKNPSWSAQDFKSPEEYAFASSLQGGTN' \\\n",
    "    'AILAPVNLASQNSQGGVLNGFYSANKVAQFDPSKPQQTKGTWFQITKFTGAAGPYCKALGSNDKSVCDKNKNIAGDWGFDPAKWAYQYDEKNNKFNYVGK'"
   ]
  },
  {
   "cell_type": "markdown",
   "id": "08f4f008-8072-445b-9993-baf36057ccbb",
   "metadata": {},
   "source": [
    "# Process results"
   ]
  },
  {
   "cell_type": "markdown",
   "id": "a4650411-882e-40fc-b0e0-1c15522f893a",
   "metadata": {
    "tags": []
   },
   "source": [
    "## EVmutation"
   ]
  },
  {
   "cell_type": "markdown",
   "id": "e93aaa05-d158-4efb-9ba7-15f9d403a844",
   "metadata": {
    "tags": []
   },
   "source": [
    "### Prepare EVmutation files\n",
    "- wt.fasta\n",
    "- test.csv: 'seq' column, fixed length"
   ]
  },
  {
   "cell_type": "code",
   "execution_count": 4,
   "id": "05bb6463-78ee-4f50-a995-20ac693e0ff2",
   "metadata": {},
   "outputs": [],
   "source": [
    "test[test.seq_len == 221].to_csv(f'{data_folder}/test_substitution.csv')"
   ]
  },
  {
   "cell_type": "markdown",
   "id": "defe9768-76a8-4f19-991d-b70701391e44",
   "metadata": {},
   "source": [
    "### Merge to output"
   ]
  },
  {
   "cell_type": "code",
   "execution_count": 5,
   "id": "234d4a2d-3e7e-45dd-af28-8081b3941a64",
   "metadata": {},
   "outputs": [
    {
     "data": {
      "text/plain": [
       "2336"
      ]
     },
     "execution_count": 5,
     "metadata": {},
     "output_type": "execute_result"
    }
   ],
   "source": [
    "test_pred = pd.read_csv('data/ev/test_pred.csv')\n",
    "len(test_pred)"
   ]
  },
  {
   "cell_type": "code",
   "execution_count": 6,
   "id": "d3ceeaef-7b39-4d18-a107-afff9591ff89",
   "metadata": {},
   "outputs": [
    {
     "data": {
      "text/plain": [
       "2413"
      ]
     },
     "execution_count": 6,
     "metadata": {},
     "output_type": "execute_result"
    }
   ],
   "source": [
    "submission = test[['seq_id']].merge(test_pred[['seq_id', 'pred']], on='seq_id', how='left')\n",
    "len(submission)"
   ]
  },
  {
   "cell_type": "code",
   "execution_count": 7,
   "id": "6030f3cb-688e-44c2-997f-4a198c5464a2",
   "metadata": {},
   "outputs": [],
   "source": [
    "import numpy as np\n",
    "\n",
    "submission['tm'] = np.nan_to_num(submission.pred, copy=True, nan=submission.pred.min())"
   ]
  },
  {
   "cell_type": "code",
   "execution_count": 8,
   "id": "19b05221-faf3-40a6-9281-2da4dbf9247c",
   "metadata": {},
   "outputs": [],
   "source": [
    "submission[['seq_id', 'tm']].to_csv('data/ev/submission.csv', index=False)"
   ]
  },
  {
   "cell_type": "code",
   "execution_count": null,
   "id": "686f8931-85cc-4c17-a6be-df758a803b81",
   "metadata": {},
   "outputs": [],
   "source": []
  }
 ],
 "metadata": {
  "kernelspec": {
   "display_name": "Python 3 (ipykernel)",
   "language": "python",
   "name": "python3"
  },
  "language_info": {
   "codemirror_mode": {
    "name": "ipython",
    "version": 3
   },
   "file_extension": ".py",
   "mimetype": "text/x-python",
   "name": "python",
   "nbconvert_exporter": "python",
   "pygments_lexer": "ipython3",
   "version": "3.7.12"
  }
 },
 "nbformat": 4,
 "nbformat_minor": 5
}
