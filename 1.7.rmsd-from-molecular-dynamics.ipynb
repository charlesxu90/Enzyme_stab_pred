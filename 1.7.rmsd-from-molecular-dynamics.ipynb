{
 "cells": [
  {
   "cell_type": "markdown",
   "id": "4486e2e3",
   "metadata": {
    "_execution_state": "idle",
    "_uuid": "051d70d956493feee0c6d64651c6a088724dca2a",
    "papermill": {
     "duration": 0.005168,
     "end_time": "2022-10-19T00:02:28.372741",
     "exception": false,
     "start_time": "2022-10-19T00:02:28.367573",
     "status": "completed"
    },
    "tags": []
   },
   "source": [
    "This notebook adds an additional ranking to the NOVOZYMES' thermostability prediction based on the average Root Mean Square Deviation (RMSD) per residue computed from the trajectory of a Molecular Dynamics (MD) simulation carried out through the VMD and NAMD software, following the official NAMD tutorial with some minor differences:\n",
    "* http://www.ks.uiuc.edu/Training/Tutorials/namd/namd-tutorial-unix.pdf\n",
    "\n",
    "The VMD and NAMD software can be downloaded free of charge at the following links:\n",
    "* https://www.ks.uiuc.edu/Development/Download/download.cgi?PackageName=VMD\n",
    "* https://www.ks.uiuc.edu/Development/Download/download.cgi?PackageName=NAMD"
   ]
  },
  {
   "cell_type": "markdown",
   "id": "36dba140",
   "metadata": {
    "papermill": {
     "duration": 0.003935,
     "end_time": "2022-10-19T00:02:28.382896",
     "exception": false,
     "start_time": "2022-10-19T00:02:28.378961",
     "status": "completed"
    },
    "tags": []
   },
   "source": [
    "# Notes"
   ]
  },
  {
   "cell_type": "markdown",
   "id": "fb369919",
   "metadata": {
    "papermill": {
     "duration": 0.004014,
     "end_time": "2022-10-19T00:02:28.390836",
     "exception": false,
     "start_time": "2022-10-19T00:02:28.386822",
     "status": "completed"
    },
    "tags": []
   },
   "source": [
    "* **Version 2** uses half the simulation time as version 1.\n",
    "* It is advisable to restart VMD and reload the input files after every single calculation because sometimes the variables in memory to change value (e.g. calculating the RMSD twice consecutively does not given the same result)."
   ]
  },
  {
   "cell_type": "markdown",
   "id": "399a9950",
   "metadata": {
    "papermill": {
     "duration": 0.003907,
     "end_time": "2022-10-19T00:02:28.398891",
     "exception": false,
     "start_time": "2022-10-19T00:02:28.394984",
     "status": "completed"
    },
    "tags": []
   },
   "source": [
    "# Pre-processing"
   ]
  },
  {
   "cell_type": "markdown",
   "id": "55e1bc81",
   "metadata": {
    "papermill": {
     "duration": 0.003947,
     "end_time": "2022-10-19T00:02:28.406763",
     "exception": false,
     "start_time": "2022-10-19T00:02:28.402816",
     "status": "completed"
    },
    "tags": []
   },
   "source": [
    "We start by loading the PDB file provided by the organizers through VMD with the following command in a terminal:\n",
    "\n",
    "```\n",
    "vmd wildtype_structure_prediction_af2.pdb\n",
    "```\n",
    "\n",
    "The protein is shown below in cartoon representation colored by secondary structure:\n",
    "\n",
    "<img src=\"https://i.imgur.com/YESYWwq.png\">"
   ]
  },
  {
   "cell_type": "markdown",
   "id": "95367678",
   "metadata": {
    "papermill": {
     "duration": 0.003898,
     "end_time": "2022-10-19T00:02:28.414900",
     "exception": false,
     "start_time": "2022-10-19T00:02:28.411002",
     "status": "completed"
    },
    "tags": []
   },
   "source": [
    "Next we need to generate the Protein Structure File (PSF). In the \"VMD Main\" window click on \"Extensions\" and then on \"Tk Console\". Then paste the following TCL scripts within the Tk Console.\n",
    "\n",
    "First we make sure that only protein atoms are to be used:\n",
    "\n",
    "```\n",
    "set af2 [atomselect top protein] \n",
    "$af2 writepdb af2.pdb \n",
    "```\n",
    "\n",
    "Next we load the \"psfgen\" package and run it using the \"top_all27_prot_lipid.inp\" CHARMM22 topology file which is provided in the \"1-1-build\" directory of the tutorial. This file contains the atomic masses and partial charges which are residue-specific:\n",
    "\n",
    "```\n",
    "package require psfgen \n",
    "topology top_all27_prot_lipid.inp \n",
    "pdbalias residue HIS HSE \n",
    "pdbalias atom ILE CD1 CD \n",
    "segment U {pdb af2.pdb} \n",
    "coordpdb af2.pdb U \n",
    "guesscoord \n",
    "writepdb af2o.pdb \n",
    "writepsf af2o.psf \n",
    "```\n",
    "\n",
    "Now we add water molecules within a cubic box, including 5Å of padding in each direction:\n",
    "\n",
    "```\n",
    "package require solvate \n",
    "solvate af2o.psf af2o.pdb -t 5 -o af2o_wb \n",
    "```\n",
    "\n",
    "We could also add salt in physiological concentration, although my understanding is that the actual salt concentration of this enzyme under industrial conditions might differ significantly, which is why I skipped this step for the moment:\n",
    "\n",
    "```\n",
    "package require autoionize \n",
    "autoionize -psf af2o_wb.psf -pdb af2o_wb.pdb -sc 0.15 -o af2o_wb_ion \n",
    "```\n",
    "\n",
    "Finally, we need to measure the center and dimensions of the water box:\n",
    "\n",
    "```\n",
    "set everyone [atomselect top all]\n",
    "measure minmax $everyone\n",
    "measure center $everyone\n",
    "```\n",
    "\n",
    "The result is a box centered at (4.31, 0.9, 13.4) with dimensions of 74 in X, 53 in Y and 87 in Z:\n",
    "\n",
    "<video controls>\n",
    "<source src=\"https://i.imgur.com/TDLApPv.mp4\">\n",
    "</video>\n"
   ]
  },
  {
   "cell_type": "markdown",
   "id": "9862ee85",
   "metadata": {
    "papermill": {
     "duration": 0.003953,
     "end_time": "2022-10-19T00:02:28.422708",
     "exception": false,
     "start_time": "2022-10-19T00:02:28.418755",
     "status": "completed"
    },
    "tags": []
   },
   "source": [
    "# Simulation"
   ]
  },
  {
   "cell_type": "markdown",
   "id": "47f9c377",
   "metadata": {
    "papermill": {
     "duration": 0.003825,
     "end_time": "2022-10-19T00:02:28.430514",
     "exception": false,
     "start_time": "2022-10-19T00:02:28.426689",
     "status": "completed"
    },
    "tags": []
   },
   "source": [
    "A 100 picosecond simulation was run in a local computer using 16 cores through the \"namd2\" program:\n",
    "\n",
    "```\n",
    "namd2 +p16 af2.conf > af2.log &\n",
    "```\n",
    "\n",
    "<video controls>\n",
    "<source src=\"https://i.imgur.com/AJOuHHg.mp4\">\n",
    "</video>\n",
    "\n",
    "The file \"af2.conf\" included in the uploads was taken from the \"ubq_wb_eq.conf\" file from the \"1-3-box\" directory of the tutorial with a few modifications, mainly:\n",
    "1. The \"Periodic Boundary Conditions\" need to be set from the values recorded in the pre-processing step:\n",
    "```\n",
    "# Periodic Boundary Conditions\n",
    "cellBasisVector1    74.0    0.   0.0\n",
    "cellBasisVector2     0.0  53.0   0.0\n",
    "cellBasisVector3     0.0    0   87.0\n",
    "cellOrigin          4.31   0.9  13.4\n",
    "```\n",
    "2. The minimization and equilibration steps were increased to 1000 and 50000 respectively.\n",
    "\n",
    "The only additional input file needed is the \"par_all27_prot_lipid.inp\" CHARMM22 parameter file located in the \"common\" directory of the tutorial. This file contains the atomic force-field empirical parameters necessary for the calculation of atomic forces."
   ]
  },
  {
   "cell_type": "markdown",
   "id": "c1e314cb",
   "metadata": {
    "papermill": {
     "duration": 0.003856,
     "end_time": "2022-10-19T00:02:28.438112",
     "exception": false,
     "start_time": "2022-10-19T00:02:28.434256",
     "status": "completed"
    },
    "tags": []
   },
   "source": [
    "# Analysis"
   ]
  },
  {
   "cell_type": "markdown",
   "id": "43d98220",
   "metadata": {
    "papermill": {
     "duration": 0.003878,
     "end_time": "2022-10-19T00:02:28.446045",
     "exception": false,
     "start_time": "2022-10-19T00:02:28.442167",
     "status": "completed"
    },
    "tags": []
   },
   "source": [
    "The VMD software allows for many interesting forms of analysis. In this competition, it seemed like the root mean squared deviaton (RMSD) would be the most relevant analysis since it directly measures the stability of a residue's structure. Basically, if a residue's RMSD is very small (i.e. it moves very little), that means that this residue is very stable in its current location and therefore if it were to be mutated, the new mutated residue might not be as stable as the original one. Such mutated residue should thus be more likely to have a low thermostability ranking.\n",
    "\n",
    "In order to analyze the trajectory, we load the PSF and DCD trajectory files into VMD:\n",
    "```\n",
    "vmd af2o_wb.psf af2o_wb.dcd\n",
    "```\n",
    "\n",
    "We can then measure the RMSD of the whole protein by pasting the script presented in the tutorial into the Tk Console:\n",
    "```\n",
    "set outfile [open rmsd.dat w]\n",
    "set nf [molinfo top get numframes]\n",
    "set frame0 [atomselect top \"protein and backbone and noh\" frame 0]\n",
    "set sel [atomselect top \"protein and backbone and noh\"]\n",
    "for { set i 1 } { $i <= $nf } { incr i } {\n",
    "$sel frame $i\n",
    "$sel move [measure fit $sel $frame0]\n",
    "puts $outfile \"[measure rmsd $sel $frame0]\"\n",
    "}\n",
    "close $outfile\n",
    "```"
   ]
  },
  {
   "cell_type": "code",
   "execution_count": 1,
   "id": "cc232082",
   "metadata": {
    "execution": {
     "iopub.execute_input": "2022-10-19T00:02:28.459827Z",
     "iopub.status.busy": "2022-10-19T00:02:28.456639Z",
     "iopub.status.idle": "2022-10-19T00:02:29.184503Z",
     "shell.execute_reply": "2022-10-19T00:02:29.182553Z"
    },
    "papermill": {
     "duration": 0.738261,
     "end_time": "2022-10-19T00:02:29.188097",
     "exception": false,
     "start_time": "2022-10-19T00:02:28.449836",
     "status": "completed"
    },
    "tags": []
   },
   "outputs": [
    {
     "data": {
      "image/png": "[encoded data removed]"
     },
     "metadata": {
      "image/png": {
       "height": 420,
       "width": 420
      }
     },
     "output_type": "display_data"
    }
   ],
   "source": [
    "# Read full-protein (excluding hydrogen atoms) RMSD vs time:\n",
    "library(ggplot2)\n",
    "rmsd <- read.table('../input/novozymes-md2/rmsd.dat',header=F)\n",
    "plot(\n",
    "    c(1:dim(rmsd)[1])/2, rmsd[,1], type=\"b\", pch=19, col=\"blue\", \n",
    "    xlab=\"Time (ps)\", ylab=\"RMSD (Å)\", main=\"Protein RMSD\"\n",
    ")"
   ]
  },
  {
   "cell_type": "markdown",
   "id": "cf0ba53f",
   "metadata": {
    "papermill": {
     "duration": 0.005149,
     "end_time": "2022-10-19T00:02:29.198373",
     "exception": false,
     "start_time": "2022-10-19T00:02:29.193224",
     "status": "completed"
    },
    "tags": []
   },
   "source": [
    "We can also get the RMSD for each residue through the \"residue_rmsd.tcl\" file provided in the \"2-1-rmsd\" directory of the tutorial, with some minor differences:\n",
    "* Change all \"frame 0\" by \"frame \"last\"\" in order to measure the RMSD relative to the last frame of the simulation (under equilibrium conditions) rather than the first frame (i.e. the original structure in the PDB file).\n",
    "* Add the solvent-accessible surface-area (SASA) of the first and of the last frames:\n",
    "```\n",
    "# SASA using first frame:\n",
    "set selprot [atomselect top \"protein\" frame 0]\n",
    "set selres [atomselect top \"protein and resid $r\" frame 0]\n",
    "set sasafirst [measure sasa 1.4 $selprot -restrict $selres]\n",
    "# SASA using last frame:\n",
    "set selprot [atomselect top \"protein\" frame \"last\"]\n",
    "set selres [atomselect top \"protein and resid $r\" frame \"last\"]\n",
    "set sasalast [measure sasa 1.4 $selprot -restrict $selres]\n",
    "# print the RMSD\n",
    "puts \"RMSD of residue $r is $rmsd($r)\"\n",
    "puts $fil \" $r \\t $rmsd($r) \\t $sasafirst \\t $sasalast\"\n",
    "```\n",
    "\n",
    "We need to restart VMD and reload the PSF and DCD files every time we do a calculation:\n",
    "```\n",
    "vmd af2o_wb.psf af2o_wb.dcd\n",
    "```\n",
    "\n",
    "Next we paste the TCL script below into the TK Console in order to generate the \"residue_rmsd_sasa_last.dat\" file:\n",
    "```\n",
    "source residue_rmsd_last.tcl\n",
    "set sel_resid [[atomselect top \"protein and alpha\"] get resid]\n",
    "rmsd_residue_over_time top $sel_resid\n",
    "```"
   ]
  },
  {
   "cell_type": "code",
   "execution_count": 2,
   "id": "92f3cca3",
   "metadata": {
    "execution": {
     "iopub.execute_input": "2022-10-19T00:02:29.287868Z",
     "iopub.status.busy": "2022-10-19T00:02:29.210137Z",
     "iopub.status.idle": "2022-10-19T00:02:29.394536Z",
     "shell.execute_reply": "2022-10-19T00:02:29.392732Z"
    },
    "papermill": {
     "duration": 0.193637,
     "end_time": "2022-10-19T00:02:29.396851",
     "exception": false,
     "start_time": "2022-10-19T00:02:29.203214",
     "status": "completed"
    },
    "tags": []
   },
   "outputs": [
    {
     "data": {
      "image/png": "[encoded data removed]"
     },
     "metadata": {
      "image/png": {
       "height": 420,
       "width": 420
      }
     },
     "output_type": "display_data"
    }
   ],
   "source": [
    "# Read VMD/NAMD output:\n",
    "namd <- read.table('../input/novozymes-md2/residue_rmsd_sasa_last.dat',header=F)\n",
    "colnames(namd) <- c('resid','rmsd','sasa0','sasaf')\n",
    "hist(namd$rmsd, xlab=\"RMSD (Å)\", main=\"Histogram of residue RMSD\")"
   ]
  },
  {
   "cell_type": "markdown",
   "id": "e6335ac2",
   "metadata": {
    "papermill": {
     "duration": 0.00557,
     "end_time": "2022-10-19T00:02:29.408109",
     "exception": false,
     "start_time": "2022-10-19T00:02:29.402539",
     "status": "completed"
    },
    "tags": []
   },
   "source": [
    "# Submissions"
   ]
  },
  {
   "cell_type": "markdown",
   "id": "665cd0ae",
   "metadata": {
    "papermill": {
     "duration": 0.005595,
     "end_time": "2022-10-19T00:02:29.418992",
     "exception": false,
     "start_time": "2022-10-19T00:02:29.413397",
     "status": "completed"
    },
    "tags": []
   },
   "source": [
    "We simply get the residue ID of the mutated residue (or -1 if there is no mutation) and use it to merge with the residue's RMSD. Since the wild-type has no mutation, we give it the minimum RMSD:"
   ]
  },
  {
   "cell_type": "code",
   "execution_count": 3,
   "id": "3e0ed1ff",
   "metadata": {
    "execution": {
     "iopub.execute_input": "2022-10-19T00:02:29.548611Z",
     "iopub.status.busy": "2022-10-19T00:02:29.547157Z",
     "iopub.status.idle": "2022-10-19T00:02:29.811830Z",
     "shell.execute_reply": "2022-10-19T00:02:29.809978Z"
    },
    "papermill": {
     "duration": 0.389913,
     "end_time": "2022-10-19T00:02:29.814498",
     "exception": false,
     "start_time": "2022-10-19T00:02:29.424585",
     "status": "completed"
    },
    "tags": []
   },
   "outputs": [
    {
     "data": {
      "text/html": [
       "<table class=\"dataframe\">\n",
       "<caption>A data.frame: 6 × 9</caption>\n",
       "<thead>\n",
       "\t<tr><th></th><th scope=col>resid</th><th scope=col>seq_id</th><th scope=col>protein_sequence</th><th scope=col>pH</th><th scope=col>data_source</th><th scope=col>rmsd</th><th scope=col>sasa0</th><th scope=col>sasaf</th><th scope=col>tm</th></tr>\n",
       "\t<tr><th></th><th scope=col>&lt;dbl&gt;</th><th scope=col>&lt;int&gt;</th><th scope=col>&lt;chr&gt;</th><th scope=col>&lt;int&gt;</th><th scope=col>&lt;chr&gt;</th><th scope=col>&lt;dbl&gt;</th><th scope=col>&lt;dbl&gt;</th><th scope=col>&lt;dbl&gt;</th><th scope=col>&lt;dbl&gt;</th></tr>\n",
       "</thead>\n",
       "<tbody>\n",
       "\t<tr><th scope=row>12</th><td>17</td><td>31390</td><td>VPVNPEPDATSVENVAEKTGSGDSQSDPIKADLEVKGQSALPFDVDCWAILCKGAPNVLQRVNEKTKNSNRDRSGANKGPFKDPQKWGIKALPPKNPSWSAQDFKSPEEYAFASSLQGGTNAILAPVNLASQNSQGGVLNGFYSANKVAQFDPSKPQQTKGTWFQITKFTGAAGPYCKALGSNDKSVCDKNKNIAGDWGFDPAKWAYQYDEKNNKFNYVGK</td><td>8</td><td>Novozymes</td><td>1.713078</td><td>173.45062</td><td>186.3791</td><td>2374.0</td></tr>\n",
       "\t<tr><th scope=row>13</th><td>17</td><td>31391</td><td>VPVNPEPDATSVENVAKKTGSGDSQSDPIKADLEVKGQSALPFDVDCWAILCKGAPNVLQRVNEKTKNSNRDRSGANKGPFKDPQKWGIKALPPKNPSWSAQDFKSPEEYAFASSLQGGTNAILAPVNLASQNSQGGVLNGFYSANKVAQFDPSKPQQTKGTWFQITKFTGAAGPYCKALGSNDKSVCDKNKNIAGDWGFDPAKWAYQYDEKNNKFNYVGK</td><td>8</td><td>Novozymes</td><td>1.713078</td><td>173.45062</td><td>186.3791</td><td>2374.0</td></tr>\n",
       "\t<tr><th scope=row>14</th><td>17</td><td>31392</td><td>VPVNPEPDATSVENVAKTGSGDSQSDPIKADLEVKGQSALPFDVDCWAILCKGAPNVLQRVNEKTKNSNRDRSGANKGPFKDPQKWGIKALPPKNPSWSAQDFKSPEEYAFASSLQGGTNAILAPVNLASQNSQGGVLNGFYSANKVAQFDPSKPQQTKGTWFQITKFTGAAGPYCKALGSNDKSVCDKNKNIAGDWGFDPAKWAYQYDEKNNKFNYVGK </td><td>8</td><td>Novozymes</td><td>1.713078</td><td>173.45062</td><td>186.3791</td><td>2374.0</td></tr>\n",
       "\t<tr><th scope=row>27</th><td>18</td><td>31393</td><td>VPVNPEPDATSVENVALCTGSGDSQSDPIKADLEVKGQSALPFDVDCWAILCKGAPNVLQRVNEKTKNSNRDRSGANKGPFKDPQKWGIKALPPKNPSWSAQDFKSPEEYAFASSLQGGTNAILAPVNLASQNSQGGVLNGFYSANKVAQFDPSKPQQTKGTWFQITKFTGAAGPYCKALGSNDKSVCDKNKNIAGDWGFDPAKWAYQYDEKNNKFNYVGK</td><td>8</td><td>Novozymes</td><td>1.291873</td><td> 89.77994</td><td>101.7306</td><td>2007.5</td></tr>\n",
       "\t<tr><th scope=row>28</th><td>18</td><td>31394</td><td>VPVNPEPDATSVENVALFTGSGDSQSDPIKADLEVKGQSALPFDVDCWAILCKGAPNVLQRVNEKTKNSNRDRSGANKGPFKDPQKWGIKALPPKNPSWSAQDFKSPEEYAFASSLQGGTNAILAPVNLASQNSQGGVLNGFYSANKVAQFDPSKPQQTKGTWFQITKFTGAAGPYCKALGSNDKSVCDKNKNIAGDWGFDPAKWAYQYDEKNNKFNYVGK</td><td>8</td><td>Novozymes</td><td>1.291873</td><td> 89.77994</td><td>101.7306</td><td>2007.5</td></tr>\n",
       "\t<tr><th scope=row>21</th><td>18</td><td>31395</td><td>VPVNPEPDATSVENVALGTGSGDSQSDPIKADLEVKGQSALPFDVDCWAILCKGAPNVLQRVNEKTKNSNRDRSGANKGPFKDPQKWGIKALPPKNPSWSAQDFKSPEEYAFASSLQGGTNAILAPVNLASQNSQGGVLNGFYSANKVAQFDPSKPQQTKGTWFQITKFTGAAGPYCKALGSNDKSVCDKNKNIAGDWGFDPAKWAYQYDEKNNKFNYVGK</td><td>8</td><td>Novozymes</td><td>1.291873</td><td> 89.77994</td><td>101.7306</td><td>2007.5</td></tr>\n",
       "</tbody>\n",
       "</table>\n"
      ],
      "text/latex": [
       "A data.frame: 6 × 9\n",
       "\\begin{tabular}{r|lllllllll}\n",
       "  & resid & seq\\_id & protein\\_sequence & pH & data\\_source & rmsd & sasa0 & sasaf & tm\\\\\n",
       "  & <dbl> & <int> & <chr> & <int> & <chr> & <dbl> & <dbl> & <dbl> & <dbl>\\\\\n",
       "\\hline\n",
       "\t12 & 17 & 31390 & VPVNPEPDATSVENVAEKTGSGDSQSDPIKADLEVKGQSALPFDVDCWAILCKGAPNVLQRVNEKTKNSNRDRSGANKGPFKDPQKWGIKALPPKNPSWSAQDFKSPEEYAFASSLQGGTNAILAPVNLASQNSQGGVLNGFYSANKVAQFDPSKPQQTKGTWFQITKFTGAAGPYCKALGSNDKSVCDKNKNIAGDWGFDPAKWAYQYDEKNNKFNYVGK & 8 & Novozymes & 1.713078 & 173.45062 & 186.3791 & 2374.0\\\\\n",
       "\t13 & 17 & 31391 & VPVNPEPDATSVENVAKKTGSGDSQSDPIKADLEVKGQSALPFDVDCWAILCKGAPNVLQRVNEKTKNSNRDRSGANKGPFKDPQKWGIKALPPKNPSWSAQDFKSPEEYAFASSLQGGTNAILAPVNLASQNSQGGVLNGFYSANKVAQFDPSKPQQTKGTWFQITKFTGAAGPYCKALGSNDKSVCDKNKNIAGDWGFDPAKWAYQYDEKNNKFNYVGK & 8 & Novozymes & 1.713078 & 173.45062 & 186.3791 & 2374.0\\\\\n",
       "\t14 & 17 & 31392 & VPVNPEPDATSVENVAKTGSGDSQSDPIKADLEVKGQSALPFDVDCWAILCKGAPNVLQRVNEKTKNSNRDRSGANKGPFKDPQKWGIKALPPKNPSWSAQDFKSPEEYAFASSLQGGTNAILAPVNLASQNSQGGVLNGFYSANKVAQFDPSKPQQTKGTWFQITKFTGAAGPYCKALGSNDKSVCDKNKNIAGDWGFDPAKWAYQYDEKNNKFNYVGK  & 8 & Novozymes & 1.713078 & 173.45062 & 186.3791 & 2374.0\\\\\n",
       "\t27 & 18 & 31393 & VPVNPEPDATSVENVALCTGSGDSQSDPIKADLEVKGQSALPFDVDCWAILCKGAPNVLQRVNEKTKNSNRDRSGANKGPFKDPQKWGIKALPPKNPSWSAQDFKSPEEYAFASSLQGGTNAILAPVNLASQNSQGGVLNGFYSANKVAQFDPSKPQQTKGTWFQITKFTGAAGPYCKALGSNDKSVCDKNKNIAGDWGFDPAKWAYQYDEKNNKFNYVGK & 8 & Novozymes & 1.291873 &  89.77994 & 101.7306 & 2007.5\\\\\n",
       "\t28 & 18 & 31394 & VPVNPEPDATSVENVALFTGSGDSQSDPIKADLEVKGQSALPFDVDCWAILCKGAPNVLQRVNEKTKNSNRDRSGANKGPFKDPQKWGIKALPPKNPSWSAQDFKSPEEYAFASSLQGGTNAILAPVNLASQNSQGGVLNGFYSANKVAQFDPSKPQQTKGTWFQITKFTGAAGPYCKALGSNDKSVCDKNKNIAGDWGFDPAKWAYQYDEKNNKFNYVGK & 8 & Novozymes & 1.291873 &  89.77994 & 101.7306 & 2007.5\\\\\n",
       "\t21 & 18 & 31395 & VPVNPEPDATSVENVALGTGSGDSQSDPIKADLEVKGQSALPFDVDCWAILCKGAPNVLQRVNEKTKNSNRDRSGANKGPFKDPQKWGIKALPPKNPSWSAQDFKSPEEYAFASSLQGGTNAILAPVNLASQNSQGGVLNGFYSANKVAQFDPSKPQQTKGTWFQITKFTGAAGPYCKALGSNDKSVCDKNKNIAGDWGFDPAKWAYQYDEKNNKFNYVGK & 8 & Novozymes & 1.291873 &  89.77994 & 101.7306 & 2007.5\\\\\n",
       "\\end{tabular}\n"
      ],
      "text/markdown": [
       "\n",
       "A data.frame: 6 × 9\n",
       "\n",
       "| <!--/--> | resid &lt;dbl&gt; | seq_id &lt;int&gt; | protein_sequence &lt;chr&gt; | pH &lt;int&gt; | data_source &lt;chr&gt; | rmsd &lt;dbl&gt; | sasa0 &lt;dbl&gt; | sasaf &lt;dbl&gt; | tm &lt;dbl&gt; |\n",
       "|---|---|---|---|---|---|---|---|---|---|\n",
       "| 12 | 17 | 31390 | VPVNPEPDATSVENVAEKTGSGDSQSDPIKADLEVKGQSALPFDVDCWAILCKGAPNVLQRVNEKTKNSNRDRSGANKGPFKDPQKWGIKALPPKNPSWSAQDFKSPEEYAFASSLQGGTNAILAPVNLASQNSQGGVLNGFYSANKVAQFDPSKPQQTKGTWFQITKFTGAAGPYCKALGSNDKSVCDKNKNIAGDWGFDPAKWAYQYDEKNNKFNYVGK | 8 | Novozymes | 1.713078 | 173.45062 | 186.3791 | 2374.0 |\n",
       "| 13 | 17 | 31391 | VPVNPEPDATSVENVAKKTGSGDSQSDPIKADLEVKGQSALPFDVDCWAILCKGAPNVLQRVNEKTKNSNRDRSGANKGPFKDPQKWGIKALPPKNPSWSAQDFKSPEEYAFASSLQGGTNAILAPVNLASQNSQGGVLNGFYSANKVAQFDPSKPQQTKGTWFQITKFTGAAGPYCKALGSNDKSVCDKNKNIAGDWGFDPAKWAYQYDEKNNKFNYVGK | 8 | Novozymes | 1.713078 | 173.45062 | 186.3791 | 2374.0 |\n",
       "| 14 | 17 | 31392 | VPVNPEPDATSVENVAKTGSGDSQSDPIKADLEVKGQSALPFDVDCWAILCKGAPNVLQRVNEKTKNSNRDRSGANKGPFKDPQKWGIKALPPKNPSWSAQDFKSPEEYAFASSLQGGTNAILAPVNLASQNSQGGVLNGFYSANKVAQFDPSKPQQTKGTWFQITKFTGAAGPYCKALGSNDKSVCDKNKNIAGDWGFDPAKWAYQYDEKNNKFNYVGK  | 8 | Novozymes | 1.713078 | 173.45062 | 186.3791 | 2374.0 |\n",
       "| 27 | 18 | 31393 | VPVNPEPDATSVENVALCTGSGDSQSDPIKADLEVKGQSALPFDVDCWAILCKGAPNVLQRVNEKTKNSNRDRSGANKGPFKDPQKWGIKALPPKNPSWSAQDFKSPEEYAFASSLQGGTNAILAPVNLASQNSQGGVLNGFYSANKVAQFDPSKPQQTKGTWFQITKFTGAAGPYCKALGSNDKSVCDKNKNIAGDWGFDPAKWAYQYDEKNNKFNYVGK | 8 | Novozymes | 1.291873 |  89.77994 | 101.7306 | 2007.5 |\n",
       "| 28 | 18 | 31394 | VPVNPEPDATSVENVALFTGSGDSQSDPIKADLEVKGQSALPFDVDCWAILCKGAPNVLQRVNEKTKNSNRDRSGANKGPFKDPQKWGIKALPPKNPSWSAQDFKSPEEYAFASSLQGGTNAILAPVNLASQNSQGGVLNGFYSANKVAQFDPSKPQQTKGTWFQITKFTGAAGPYCKALGSNDKSVCDKNKNIAGDWGFDPAKWAYQYDEKNNKFNYVGK | 8 | Novozymes | 1.291873 |  89.77994 | 101.7306 | 2007.5 |\n",
       "| 21 | 18 | 31395 | VPVNPEPDATSVENVALGTGSGDSQSDPIKADLEVKGQSALPFDVDCWAILCKGAPNVLQRVNEKTKNSNRDRSGANKGPFKDPQKWGIKALPPKNPSWSAQDFKSPEEYAFASSLQGGTNAILAPVNLASQNSQGGVLNGFYSANKVAQFDPSKPQQTKGTWFQITKFTGAAGPYCKALGSNDKSVCDKNKNIAGDWGFDPAKWAYQYDEKNNKFNYVGK | 8 | Novozymes | 1.291873 |  89.77994 | 101.7306 | 2007.5 |\n",
       "\n"
      ],
      "text/plain": [
       "   resid seq_id\n",
       "12 17    31390 \n",
       "13 17    31391 \n",
       "14 17    31392 \n",
       "27 18    31393 \n",
       "28 18    31394 \n",
       "21 18    31395 \n",
       "   protein_sequence                                                                                                                                                                                                             \n",
       "12 VPVNPEPDATSVENVAEKTGSGDSQSDPIKADLEVKGQSALPFDVDCWAILCKGAPNVLQRVNEKTKNSNRDRSGANKGPFKDPQKWGIKALPPKNPSWSAQDFKSPEEYAFASSLQGGTNAILAPVNLASQNSQGGVLNGFYSANKVAQFDPSKPQQTKGTWFQITKFTGAAGPYCKALGSNDKSVCDKNKNIAGDWGFDPAKWAYQYDEKNNKFNYVGK\n",
       "13 VPVNPEPDATSVENVAKKTGSGDSQSDPIKADLEVKGQSALPFDVDCWAILCKGAPNVLQRVNEKTKNSNRDRSGANKGPFKDPQKWGIKALPPKNPSWSAQDFKSPEEYAFASSLQGGTNAILAPVNLASQNSQGGVLNGFYSANKVAQFDPSKPQQTKGTWFQITKFTGAAGPYCKALGSNDKSVCDKNKNIAGDWGFDPAKWAYQYDEKNNKFNYVGK\n",
       "14 VPVNPEPDATSVENVAKTGSGDSQSDPIKADLEVKGQSALPFDVDCWAILCKGAPNVLQRVNEKTKNSNRDRSGANKGPFKDPQKWGIKALPPKNPSWSAQDFKSPEEYAFASSLQGGTNAILAPVNLASQNSQGGVLNGFYSANKVAQFDPSKPQQTKGTWFQITKFTGAAGPYCKALGSNDKSVCDKNKNIAGDWGFDPAKWAYQYDEKNNKFNYVGK \n",
       "27 VPVNPEPDATSVENVALCTGSGDSQSDPIKADLEVKGQSALPFDVDCWAILCKGAPNVLQRVNEKTKNSNRDRSGANKGPFKDPQKWGIKALPPKNPSWSAQDFKSPEEYAFASSLQGGTNAILAPVNLASQNSQGGVLNGFYSANKVAQFDPSKPQQTKGTWFQITKFTGAAGPYCKALGSNDKSVCDKNKNIAGDWGFDPAKWAYQYDEKNNKFNYVGK\n",
       "28 VPVNPEPDATSVENVALFTGSGDSQSDPIKADLEVKGQSALPFDVDCWAILCKGAPNVLQRVNEKTKNSNRDRSGANKGPFKDPQKWGIKALPPKNPSWSAQDFKSPEEYAFASSLQGGTNAILAPVNLASQNSQGGVLNGFYSANKVAQFDPSKPQQTKGTWFQITKFTGAAGPYCKALGSNDKSVCDKNKNIAGDWGFDPAKWAYQYDEKNNKFNYVGK\n",
       "21 VPVNPEPDATSVENVALGTGSGDSQSDPIKADLEVKGQSALPFDVDCWAILCKGAPNVLQRVNEKTKNSNRDRSGANKGPFKDPQKWGIKALPPKNPSWSAQDFKSPEEYAFASSLQGGTNAILAPVNLASQNSQGGVLNGFYSANKVAQFDPSKPQQTKGTWFQITKFTGAAGPYCKALGSNDKSVCDKNKNIAGDWGFDPAKWAYQYDEKNNKFNYVGK\n",
       "   pH data_source rmsd     sasa0     sasaf    tm    \n",
       "12 8  Novozymes   1.713078 173.45062 186.3791 2374.0\n",
       "13 8  Novozymes   1.713078 173.45062 186.3791 2374.0\n",
       "14 8  Novozymes   1.713078 173.45062 186.3791 2374.0\n",
       "27 8  Novozymes   1.291873  89.77994 101.7306 2007.5\n",
       "28 8  Novozymes   1.291873  89.77994 101.7306 2007.5\n",
       "21 8  Novozymes   1.291873  89.77994 101.7306 2007.5"
      ]
     },
     "metadata": {},
     "output_type": "display_data"
    }
   ],
   "source": [
    "# Wild type sequence provided in the \"Dataset Description\":\n",
    "wtseq <- 'VPVNPEPDATSVENVALKTGSGDSQSDPIKADLEVKGQSALPFDVDCWAILCKGAPNVLQRVNEKTKNSNRDRSGANKGPFKDPQKWGIKALPPKNPSWSAQDFKSPEEYAFASSLQGGTNAILAPVNLASQNSQGGVLNGFYSANKVAQFDPSKPQQTKGTWFQITKFTGAAGPYCKALGSNDKSVCDKNKNIAGDWGFDPAKWAYQYDEKNNKFNYVGK'\n",
    "\n",
    "# Read testing set and find the id of the mutated residue:\n",
    "test <- read.csv('../input/novozymes-enzyme-stability-prediction/test.csv')\n",
    "test$resid <- sapply(test$protein_sequence,function(seq){\n",
    "  if(seq==wtseq){ return(-1) } else {\n",
    "    wtsub <- substr(wtseq,1,nchar(seq))\n",
    "    i <- mapply(function(x,y) which(x!=y)[1], strsplit(seq,\"\"), strsplit(wtsub,\"\"))\n",
    "    return(i)\n",
    "  }\n",
    "})\n",
    "\n",
    "# Add VMD/NAMD results to the testing set:\n",
    "test <- merge(test,namd,all.x=T)\n",
    "test[test$resid==-1,'rmsd'] <- min(test$rmsd,na.rm=T) #wild-type\n",
    "test <- test[order(test$seq_id),]\n",
    "      \n",
    "# RMSD-only submission:\n",
    "test$tm <- rank(test$rmsd)\n",
    "write.csv(test[,c('seq_id','tm')],file='submission_rmsd.csv',row.names=FALSE,quote=FALSE)\n",
    "\n",
    "# SASA-first submission:\n",
    "test$tm <- rank(test$sasa0)\n",
    "write.csv(test[,c('seq_id','tm')],file='submission_sasa0.csv',row.names=FALSE,quote=FALSE)\n",
    "\n",
    "# SASA-last submission:\n",
    "test$tm <- rank(test$sasaf)\n",
    "write.csv(test[,c('seq_id','tm')],file='submission_sasaf.csv',row.names=FALSE,quote=FALSE)\n",
    "      \n",
    "head(test)"
   ]
  },
  {
   "cell_type": "markdown",
   "id": "3301bef4",
   "metadata": {
    "papermill": {
     "duration": 0.016907,
     "end_time": "2022-10-19T00:02:29.837404",
     "exception": false,
     "start_time": "2022-10-19T00:02:29.820497",
     "status": "completed"
    },
    "tags": []
   },
   "source": [
    "Then we add the RMSD ranking to the current best-scoring submission shared by @vslaykovsky:\n",
    "* https://www.kaggle.com/code/vslaykovsky/nesp-thermonet"
   ]
  },
  {
   "cell_type": "code",
   "execution_count": 4,
   "id": "26a43e99",
   "metadata": {
    "execution": {
     "iopub.execute_input": "2022-10-19T00:02:29.853260Z",
     "iopub.status.busy": "2022-10-19T00:02:29.851639Z",
     "iopub.status.idle": "2022-10-19T00:02:29.910576Z",
     "shell.execute_reply": "2022-10-19T00:02:29.908896Z"
    },
    "papermill": {
     "duration": 0.069509,
     "end_time": "2022-10-19T00:02:29.913130",
     "exception": false,
     "start_time": "2022-10-19T00:02:29.843621",
     "status": "completed"
    },
    "tags": []
   },
   "outputs": [
    {
     "data": {
      "text/html": [
       "<table class=\"dataframe\">\n",
       "<caption>A data.frame: 6 × 2</caption>\n",
       "<thead>\n",
       "\t<tr><th></th><th scope=col>seq_id</th><th scope=col>tm</th></tr>\n",
       "\t<tr><th></th><th scope=col>&lt;int&gt;</th><th scope=col>&lt;dbl&gt;</th></tr>\n",
       "</thead>\n",
       "<tbody>\n",
       "\t<tr><th scope=row>12</th><td>31390</td><td>11126.0</td></tr>\n",
       "\t<tr><th scope=row>13</th><td>31391</td><td>12012.0</td></tr>\n",
       "\t<tr><th scope=row>14</th><td>31392</td><td> 8387.0</td></tr>\n",
       "\t<tr><th scope=row>27</th><td>31393</td><td> 9010.0</td></tr>\n",
       "\t<tr><th scope=row>28</th><td>31394</td><td> 9303.0</td></tr>\n",
       "\t<tr><th scope=row>21</th><td>31395</td><td> 9495.5</td></tr>\n",
       "</tbody>\n",
       "</table>\n"
      ],
      "text/latex": [
       "A data.frame: 6 × 2\n",
       "\\begin{tabular}{r|ll}\n",
       "  & seq\\_id & tm\\\\\n",
       "  & <int> & <dbl>\\\\\n",
       "\\hline\n",
       "\t12 & 31390 & 11126.0\\\\\n",
       "\t13 & 31391 & 12012.0\\\\\n",
       "\t14 & 31392 &  8387.0\\\\\n",
       "\t27 & 31393 &  9010.0\\\\\n",
       "\t28 & 31394 &  9303.0\\\\\n",
       "\t21 & 31395 &  9495.5\\\\\n",
       "\\end{tabular}\n"
      ],
      "text/markdown": [
       "\n",
       "A data.frame: 6 × 2\n",
       "\n",
       "| <!--/--> | seq_id &lt;int&gt; | tm &lt;dbl&gt; |\n",
       "|---|---|---|\n",
       "| 12 | 31390 | 11126.0 |\n",
       "| 13 | 31391 | 12012.0 |\n",
       "| 14 | 31392 |  8387.0 |\n",
       "| 27 | 31393 |  9010.0 |\n",
       "| 28 | 31394 |  9303.0 |\n",
       "| 21 | 31395 |  9495.5 |\n",
       "\n"
      ],
      "text/plain": [
       "   seq_id tm     \n",
       "12 31390  11126.0\n",
       "13 31391  12012.0\n",
       "14 31392   8387.0\n",
       "27 31393   9010.0\n",
       "28 31394   9303.0\n",
       "21 31395   9495.5"
      ]
     },
     "metadata": {},
     "output_type": "display_data"
    }
   ],
   "source": [
    "# Read @vslaykovsky's submission:\n",
    "ensemble <- read.csv('../input/nesp-thermonet/submission_ensemble.csv',header=T)\n",
    "\n",
    "# Add RMSD to the ensemble and save:\n",
    "test$tm <- ensemble$tm + rank(test$rmsd)\n",
    "write.csv(test[,c('seq_id','tm')],file='submission_ensemble.csv',row.names=FALSE,quote=FALSE)\n",
    "head(test[,c('seq_id','tm')])"
   ]
  },
  {
   "cell_type": "markdown",
   "id": "b78e6c48",
   "metadata": {
    "papermill": {
     "duration": 0.006311,
     "end_time": "2022-10-19T00:02:29.925540",
     "exception": false,
     "start_time": "2022-10-19T00:02:29.919229",
     "status": "completed"
    },
    "tags": []
   },
   "source": [
    "The approach followed in this notebook is clearly suboptimal since we are not taking into account the nature of the new mutated residue; but rather only that of the original residue prior to the mutation. This is clearly an issue if we consider that the new residue could have a stronger interaction with its neighbor than the original residue. The optimal approach would thus be to carry out a separate molecular dynamics simulation for each mutated protein and to measure the RMSD of the whole protein rather than of each individual residue. The amount of mutations appears however too large for the computational resources available.\n",
    "\n",
    "Hope you found this interesting and thank you for reading!"
   ]
  }
 ],
 "metadata": {
  "kernelspec": {
   "display_name": "Python 3 (ipykernel)",
   "language": "python",
   "name": "python3"
  },
  "language_info": {
   "codemirror_mode": {
    "name": "ipython",
    "version": 3
   },
   "file_extension": ".py",
   "mimetype": "text/x-python",
   "name": "python",
   "nbconvert_exporter": "python",
   "pygments_lexer": "ipython3",
   "version": "3.7.12"
  },
  "papermill": {
   "default_parameters": {},
   "duration": 5.860727,
   "end_time": "2022-10-19T00:02:30.053198",
   "environment_variables": {},
   "exception": null,
   "input_path": "__notebook__.ipynb",
   "output_path": "__notebook__.ipynb",
   "parameters": {},
   "start_time": "2022-10-19T00:02:24.192471",
   "version": "2.4.0"
  }
 },
 "nbformat": 4,
 "nbformat_minor": 5
}
